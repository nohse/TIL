{
  "nbformat": 4,
  "nbformat_minor": 0,
  "metadata": {
    "colab": {
      "provenance": [],
      "gpuType": "T4"
    },
    "kernelspec": {
      "name": "python3",
      "display_name": "Python 3"
    },
    "language_info": {
      "name": "python"
    },
    "accelerator": "GPU"
  },
  "cells": [
    {
      "cell_type": "code",
      "execution_count": null,
      "metadata": {
        "colab": {
          "base_uri": "https://localhost:8080/"
        },
        "id": "NslZcmXXdNWF",
        "outputId": "2f6429ad-68f7-489c-9c94-b9e08c904349"
      },
      "outputs": [
        {
          "output_type": "execute_result",
          "data": {
            "text/plain": [
              "8"
            ]
          },
          "metadata": {},
          "execution_count": 1
        }
      ],
      "source": [
        "3+5"
      ]
    },
    {
      "cell_type": "markdown",
      "source": [
        "**1. Pandas**"
      ],
      "metadata": {
        "id": "Exe2CzmpjITY"
      }
    },
    {
      "cell_type": "code",
      "source": [
        "import pandas as pd"
      ],
      "metadata": {
        "id": "UNsTiG7Ed2D_"
      },
      "execution_count": null,
      "outputs": []
    },
    {
      "cell_type": "markdown",
      "source": [
        "**시리즈**"
      ],
      "metadata": {
        "id": "YB0njsDViTZW"
      }
    },
    {
      "cell_type": "code",
      "source": [
        "sr= pd.Series([17000,18000,1000,5000], index=[\"pizza\",\"chicken\",\"coke\",\"bear\"])\n",
        "print('series print :')\n",
        "print('-'*15)\n",
        "print(sr)"
      ],
      "metadata": {
        "colab": {
          "base_uri": "https://localhost:8080/"
        },
        "id": "q8kHETqJfoUO",
        "outputId": "ee653af7-0017-4fa9-e52a-330b76ec4ec7"
      },
      "execution_count": null,
      "outputs": [
        {
          "output_type": "stream",
          "name": "stdout",
          "text": [
            "series print :\n",
            "---------------\n",
            "pizza      17000\n",
            "chicken    18000\n",
            "coke        1000\n",
            "bear        5000\n",
            "dtype: int64\n"
          ]
        }
      ]
    },
    {
      "cell_type": "code",
      "source": [
        "print('시리즈의 값 : {}'.format(sr.values))\n",
        "print('시리즈의 인덱스 : {}'.format(sr.index))"
      ],
      "metadata": {
        "colab": {
          "base_uri": "https://localhost:8080/"
        },
        "id": "A4VyDEcSf9cx",
        "outputId": "16b399af-9d34-4a3e-c562-1e154706985f"
      },
      "execution_count": null,
      "outputs": [
        {
          "output_type": "stream",
          "name": "stdout",
          "text": [
            "시리즈의 값 : [17000 18000  1000  5000]\n",
            "시리즈의 인덱스 : Index(['pizza', 'chicken', 'coke', 'bear'], dtype='object')\n"
          ]
        }
      ]
    },
    {
      "cell_type": "markdown",
      "source": [
        "**데이터프레임**"
      ],
      "metadata": {
        "id": "ymG2cXEfiXDT"
      }
    },
    {
      "cell_type": "code",
      "source": [
        "values = [[1, 2, 3], [4, 5, 6], [7, 8, 9]]\n",
        "index = ['one', 'two', 'three']\n",
        "columns = ['A', 'B', 'C']\n",
        "\n",
        "df=pd.DataFrame(values,index=index, columns=columns)\n",
        "\n",
        "print('데이터프레임 출력 :')\n",
        "print('-'*18)\n",
        "print(df)\n"
      ],
      "metadata": {
        "colab": {
          "base_uri": "https://localhost:8080/"
        },
        "id": "677c0CEZgWcf",
        "outputId": "8452fb0b-e76a-4444-eb6a-8c5d2b8c0c89"
      },
      "execution_count": null,
      "outputs": [
        {
          "output_type": "stream",
          "name": "stdout",
          "text": [
            "데이터프레임 출력 :\n",
            "------------------\n",
            "       A  B  C\n",
            "one    1  2  3\n",
            "two    4  5  6\n",
            "three  7  8  9\n"
          ]
        }
      ]
    },
    {
      "cell_type": "code",
      "source": [
        "print(\"데이터 프레임의 인덱스 : {}\".format(df.index))\n",
        "print(\"데이터 프레임의 열이름 : {}\".format(df.columns))\n",
        "print(\"데이터 프레임의 값 : {}\".format(df.values))"
      ],
      "metadata": {
        "colab": {
          "base_uri": "https://localhost:8080/"
        },
        "id": "OCFlth6mg8VR",
        "outputId": "576f65ec-1987-40a5-f1ad-d20294ed6afa"
      },
      "execution_count": null,
      "outputs": [
        {
          "output_type": "stream",
          "name": "stdout",
          "text": [
            "데이터 프레임의 인덱스 : Index(['one', 'two', 'three'], dtype='object')\n",
            "데이터 프레임의 열이름 : Index(['A', 'B', 'C'], dtype='object')\n",
            "데이터 프레임의 값 : [[1 2 3]\n",
            " [4 5 6]\n",
            " [7 8 9]]\n"
          ]
        }
      ]
    },
    {
      "cell_type": "markdown",
      "source": [
        "**데이터프레임의 생성**\n",
        "\n",
        "\n"
      ],
      "metadata": {
        "id": "d0yomXW8hgZv"
      }
    },
    {
      "cell_type": "code",
      "source": [
        "# 리스트로 생성하기\n",
        "data = [\n",
        "    ['1000', 'Steve', 90.72],\n",
        "    ['1001', 'James', 78.09],\n",
        "    ['1002', 'Doyeon', 98.43],\n",
        "    ['1003', 'Jane', 64.19],\n",
        "    ['1004', 'Pilwoong', 81.30],\n",
        "    ['1005', 'Tony', 99.14],\n",
        "]\n",
        "\n",
        "df = pd.DataFrame(data)\n",
        "print(df)"
      ],
      "metadata": {
        "colab": {
          "base_uri": "https://localhost:8080/"
        },
        "id": "7y7jnuTahl3c",
        "outputId": "76d829af-3514-4c89-9b95-04037ea3d7b3"
      },
      "execution_count": null,
      "outputs": [
        {
          "output_type": "stream",
          "name": "stdout",
          "text": [
            "      0         1      2\n",
            "0  1000     Steve  90.72\n",
            "1  1001     James  78.09\n",
            "2  1002    Doyeon  98.43\n",
            "3  1003      Jane  64.19\n",
            "4  1004  Pilwoong  81.30\n",
            "5  1005      Tony  99.14\n"
          ]
        }
      ]
    },
    {
      "cell_type": "code",
      "source": [
        "df=pd.DataFrame(data,columns=['학번','이름','점수'])\n",
        "print(df)"
      ],
      "metadata": {
        "colab": {
          "base_uri": "https://localhost:8080/"
        },
        "id": "sj75caeNhqmH",
        "outputId": "e836b143-75e8-46db-d8bd-3e7f9a9e6cfe"
      },
      "execution_count": null,
      "outputs": [
        {
          "output_type": "stream",
          "name": "stdout",
          "text": [
            "     학번        이름     점수\n",
            "0  1000     Steve  90.72\n",
            "1  1001     James  78.09\n",
            "2  1002    Doyeon  98.43\n",
            "3  1003      Jane  64.19\n",
            "4  1004  Pilwoong  81.30\n",
            "5  1005      Tony  99.14\n"
          ]
        }
      ]
    },
    {
      "cell_type": "code",
      "source": [
        "# 딕셔너리로 생성하기\n",
        "data = {\n",
        "    '학번' : ['1000', '1001', '1002', '1003', '1004', '1005'],\n",
        "    '이름' : [ 'Steve', 'James', 'Doyeon', 'Jane', 'Pilwoong', 'Tony'],\n",
        "    '점수': [90.72, 78.09, 98.43, 64.19, 81.30, 99.14]\n",
        "    }\n",
        "\n",
        "df = pd.DataFrame(data)\n",
        "print(df)"
      ],
      "metadata": {
        "colab": {
          "base_uri": "https://localhost:8080/"
        },
        "id": "Zwf9-OAwh7iR",
        "outputId": "7e627b89-8cef-4a73-8d4f-ad7a0569d7a5"
      },
      "execution_count": null,
      "outputs": [
        {
          "output_type": "stream",
          "name": "stdout",
          "text": [
            "     학번        이름     점수\n",
            "0  1000     Steve  90.72\n",
            "1  1001     James  78.09\n",
            "2  1002    Doyeon  98.43\n",
            "3  1003      Jane  64.19\n",
            "4  1004  Pilwoong  81.30\n",
            "5  1005      Tony  99.14\n"
          ]
        }
      ]
    },
    {
      "cell_type": "markdown",
      "source": [
        "**데이터프레임 조회하기**\n",
        "\n"
      ],
      "metadata": {
        "id": "NlHzuWrXibTK"
      }
    },
    {
      "cell_type": "code",
      "source": [
        "print(df.head(3))"
      ],
      "metadata": {
        "colab": {
          "base_uri": "https://localhost:8080/"
        },
        "id": "aNXTdruzieEw",
        "outputId": "5e438bcc-b2ce-4555-c454-3baa39d4aea9"
      },
      "execution_count": null,
      "outputs": [
        {
          "output_type": "stream",
          "name": "stdout",
          "text": [
            "     학번      이름     점수\n",
            "0  1000   Steve  90.72\n",
            "1  1001   James  78.09\n",
            "2  1002  Doyeon  98.43\n"
          ]
        }
      ]
    },
    {
      "cell_type": "code",
      "source": [
        "print(df.tail(3))"
      ],
      "metadata": {
        "colab": {
          "base_uri": "https://localhost:8080/"
        },
        "id": "pWdNStyBil8y",
        "outputId": "816699b3-aee2-4c3b-9486-a8e720817d2d"
      },
      "execution_count": null,
      "outputs": [
        {
          "output_type": "stream",
          "name": "stdout",
          "text": [
            "     학번        이름     점수\n",
            "3  1003      Jane  64.19\n",
            "4  1004  Pilwoong  81.30\n",
            "5  1005      Tony  99.14\n"
          ]
        }
      ]
    },
    {
      "cell_type": "code",
      "source": [
        "# '학번'에 해당되는 열을 보기\n",
        "print(df['학번'])"
      ],
      "metadata": {
        "colab": {
          "base_uri": "https://localhost:8080/"
        },
        "id": "lpImJLvyipJ8",
        "outputId": "9afe5171-10ca-43c8-e623-4aecb4b64e7e"
      },
      "execution_count": null,
      "outputs": [
        {
          "output_type": "stream",
          "name": "stdout",
          "text": [
            "0    1000\n",
            "1    1001\n",
            "2    1002\n",
            "3    1003\n",
            "4    1004\n",
            "5    1005\n",
            "Name: 학번, dtype: object\n"
          ]
        }
      ]
    },
    {
      "cell_type": "markdown",
      "source": [
        "**외부 데이터 읽기**"
      ],
      "metadata": {
        "id": "IcKPzwGdiuoV"
      }
    },
    {
      "cell_type": "code",
      "source": [
        "df=pd.read_csv(\"example.csv\")\n",
        "print(df)"
      ],
      "metadata": {
        "colab": {
          "base_uri": "https://localhost:8080/"
        },
        "id": "9eBAD4U8isnk",
        "outputId": "2718afa9-f4dd-4bb6-aa8b-da9753bed137"
      },
      "execution_count": null,
      "outputs": [
        {
          "output_type": "stream",
          "name": "stdout",
          "text": [
            "     학번        이름     점수\n",
            "0  1000     Steve  90.72\n",
            "1  1001     James  78.09\n",
            "2  1002    Doyeon  98.43\n",
            "3  1003      Jane  64.19\n",
            "4  1004  Pilwoong  81.30\n",
            "5  1005      Tony  99.14\n"
          ]
        }
      ]
    },
    {
      "cell_type": "markdown",
      "source": [
        "**2. Numpy**"
      ],
      "metadata": {
        "id": "LXnXruckjOxC"
      }
    },
    {
      "cell_type": "code",
      "source": [
        "import numpy as np"
      ],
      "metadata": {
        "id": "8R8PiiAki7Pf"
      },
      "execution_count": null,
      "outputs": []
    },
    {
      "cell_type": "markdown",
      "source": [
        "**np.array()**"
      ],
      "metadata": {
        "id": "TSXumnRBj4bl"
      }
    },
    {
      "cell_type": "code",
      "source": [
        "# 1차원 배열\n",
        "vec = np.array([1, 2, 3, 4, 5])\n",
        "print(vec)"
      ],
      "metadata": {
        "colab": {
          "base_uri": "https://localhost:8080/"
        },
        "id": "zBsusDkGjf_R",
        "outputId": "fea5e27f-c783-4264-961f-67ca0f34f5a9"
      },
      "execution_count": null,
      "outputs": [
        {
          "output_type": "stream",
          "name": "stdout",
          "text": [
            "[1 2 3 4 5]\n"
          ]
        }
      ]
    },
    {
      "cell_type": "code",
      "source": [
        "mat = np.array([[10, 20, 30], [ 60, 70, 80]])\n",
        "print(mat)"
      ],
      "metadata": {
        "colab": {
          "base_uri": "https://localhost:8080/"
        },
        "id": "EhoiMjXij93t",
        "outputId": "913a06fb-77e7-4070-a03f-f644b2655f82"
      },
      "execution_count": null,
      "outputs": [
        {
          "output_type": "stream",
          "name": "stdout",
          "text": [
            "[[10 20 30]\n",
            " [60 70 80]]\n"
          ]
        }
      ]
    },
    {
      "cell_type": "code",
      "source": [
        "print('vec의 타입 :',type(vec))\n",
        "print('mat의 타입 :',type(mat))"
      ],
      "metadata": {
        "colab": {
          "base_uri": "https://localhost:8080/"
        },
        "id": "Ci-4LF79kFW8",
        "outputId": "bf43a411-16ed-4350-abd8-c3875ac0e01a"
      },
      "execution_count": null,
      "outputs": [
        {
          "output_type": "stream",
          "name": "stdout",
          "text": [
            "vec의 타입 : <class 'numpy.ndarray'>\n",
            "mat의 타입 : <class 'numpy.ndarray'>\n"
          ]
        }
      ]
    },
    {
      "cell_type": "code",
      "source": [
        "print('vec의 축의 개수 :',vec.ndim) # 축의 개수 출력\n",
        "print('vec의 크기(shape) :',vec.shape) # 크기 출력\n",
        "print('mat의 축의 개수 :',mat.ndim) # 축의 개수 출력\n",
        "print('mat의 크기(shape) :',mat.shape) # 크기 출력"
      ],
      "metadata": {
        "colab": {
          "base_uri": "https://localhost:8080/"
        },
        "id": "DTOPd6IWkJMJ",
        "outputId": "8f381125-d868-427f-fce3-999b7b337e15"
      },
      "execution_count": null,
      "outputs": [
        {
          "output_type": "stream",
          "name": "stdout",
          "text": [
            "vec의 축의 개수 : 1\n",
            "vec의 크기(shape) : (5,)\n",
            "mat의 축의 개수 : 2\n",
            "mat의 크기(shape) : (2, 3)\n"
          ]
        }
      ]
    },
    {
      "cell_type": "markdown",
      "source": [
        "**ndarray의 초기화**"
      ],
      "metadata": {
        "id": "pYUtik7hkaob"
      }
    },
    {
      "cell_type": "code",
      "source": [
        "# 모든 값이 0인 2x3 배열 생성\n",
        "zero_mat=np.zeros((2,3))\n",
        "print(zero_mat)"
      ],
      "metadata": {
        "colab": {
          "base_uri": "https://localhost:8080/"
        },
        "id": "K1ISLsWpkQAq",
        "outputId": "92a11c2a-d3fd-41af-8df4-86ee229192ab"
      },
      "execution_count": null,
      "outputs": [
        {
          "output_type": "stream",
          "name": "stdout",
          "text": [
            "[[0. 0. 0.]\n",
            " [0. 0. 0.]]\n"
          ]
        }
      ]
    },
    {
      "cell_type": "code",
      "source": [
        "# 모든 값이 1인 2x3 배열 생성.\n",
        "one_mat=np.ones((2,3))\n",
        "print(one_mat)"
      ],
      "metadata": {
        "colab": {
          "base_uri": "https://localhost:8080/"
        },
        "id": "47n0Q1YekkPp",
        "outputId": "ba3ed147-200f-404f-d495-5d14ddbca596"
      },
      "execution_count": null,
      "outputs": [
        {
          "output_type": "stream",
          "name": "stdout",
          "text": [
            "[[1. 1. 1.]\n",
            " [1. 1. 1.]]\n"
          ]
        }
      ]
    },
    {
      "cell_type": "code",
      "source": [
        "# 모든 값이 특정 상수인 배열 생성. 이 경우 7.\n",
        "same_value_mat = np.full((2,2), 7)\n",
        "print(same_value_mat)"
      ],
      "metadata": {
        "colab": {
          "base_uri": "https://localhost:8080/"
        },
        "id": "i6kejV-Jkt0T",
        "outputId": "a3d49e40-c5ee-453e-df20-9f21dd4e746c"
      },
      "execution_count": null,
      "outputs": [
        {
          "output_type": "stream",
          "name": "stdout",
          "text": [
            "[[7 7]\n",
            " [7 7]]\n"
          ]
        }
      ]
    },
    {
      "cell_type": "code",
      "source": [
        "# 대각선 값이 1이고 나머지 값이 0인 2차원 배열을 생성.\n",
        "eye_mat=np.eye(3)\n",
        "print(eye_mat)"
      ],
      "metadata": {
        "colab": {
          "base_uri": "https://localhost:8080/"
        },
        "id": "5NTCaZAgk7Rl",
        "outputId": "3a3d51e3-83ce-4804-b628-5c39d89778c4"
      },
      "execution_count": null,
      "outputs": [
        {
          "output_type": "stream",
          "name": "stdout",
          "text": [
            "[[1. 0. 0.]\n",
            " [0. 1. 0.]\n",
            " [0. 0. 1.]]\n"
          ]
        }
      ]
    },
    {
      "cell_type": "code",
      "source": [
        "# 임의의 값으로 채워진 배열 생성\n",
        "random_mat = np.random.random((2,2)) # 임의의 값으로 채워진 배열 생성\n",
        "print(random_mat)"
      ],
      "metadata": {
        "colab": {
          "base_uri": "https://localhost:8080/"
        },
        "id": "zO9xiAwNlMVu",
        "outputId": "967a7cdf-53e4-44a7-d95c-d16c60b620c0"
      },
      "execution_count": null,
      "outputs": [
        {
          "output_type": "stream",
          "name": "stdout",
          "text": [
            "[[0.6590627  0.84994661]\n",
            " [0.99975354 0.84921487]]\n"
          ]
        }
      ]
    },
    {
      "cell_type": "markdown",
      "source": [
        "**np.arange()**"
      ],
      "metadata": {
        "id": "hSAeTJbQmBCC"
      }
    },
    {
      "cell_type": "code",
      "source": [
        "# 0부터 9까지\n",
        "range_vec = np.arange(10)\n",
        "print(range_vec)"
      ],
      "metadata": {
        "colab": {
          "base_uri": "https://localhost:8080/"
        },
        "id": "f-TrcoW-lrX4",
        "outputId": "b2fafdc6-76c6-4936-e449-fcd3406e8ef1"
      },
      "execution_count": null,
      "outputs": [
        {
          "output_type": "stream",
          "name": "stdout",
          "text": [
            "[0 1 2 3 4 5 6 7 8 9]\n"
          ]
        }
      ]
    },
    {
      "cell_type": "code",
      "source": [
        "n = 2\n",
        "range_n_step_vec = np.arange(1, 10, n)\n",
        "print(range_n_step_vec)"
      ],
      "metadata": {
        "colab": {
          "base_uri": "https://localhost:8080/"
        },
        "id": "88VLR_nJmHdq",
        "outputId": "74be70ce-b031-4743-cbed-d0c2e43bf2e4"
      },
      "execution_count": null,
      "outputs": [
        {
          "output_type": "stream",
          "name": "stdout",
          "text": [
            "[1 3 5 7 9]\n"
          ]
        }
      ]
    },
    {
      "cell_type": "markdown",
      "source": [
        "**np.reshape()**"
      ],
      "metadata": {
        "id": "L8wlMnDQmLpx"
      }
    },
    {
      "cell_type": "code",
      "source": [
        "reshape_mat=np.array(np.arange(30).reshape((5,6)))\n",
        "print(reshape_mat)"
      ],
      "metadata": {
        "colab": {
          "base_uri": "https://localhost:8080/"
        },
        "id": "PxuWz4ZomJnF",
        "outputId": "b95927e0-a433-4e4d-fcbb-097a55fb1b05"
      },
      "execution_count": null,
      "outputs": [
        {
          "output_type": "stream",
          "name": "stdout",
          "text": [
            "[[ 0  1  2  3  4  5]\n",
            " [ 6  7  8  9 10 11]\n",
            " [12 13 14 15 16 17]\n",
            " [18 19 20 21 22 23]\n",
            " [24 25 26 27 28 29]]\n"
          ]
        }
      ]
    },
    {
      "cell_type": "markdown",
      "source": [
        "**Numpy 슬라이싱**"
      ],
      "metadata": {
        "id": "9TjEGSAFmjxx"
      }
    },
    {
      "cell_type": "code",
      "source": [
        "mat=np.array(np.arange(1,7).reshape(2,3))\n",
        "print(mat)"
      ],
      "metadata": {
        "colab": {
          "base_uri": "https://localhost:8080/"
        },
        "id": "mv1tRcXmma8v",
        "outputId": "e842822f-7fc4-4138-f034-83f982c870e3"
      },
      "execution_count": null,
      "outputs": [
        {
          "output_type": "stream",
          "name": "stdout",
          "text": [
            "[[1 2 3]\n",
            " [4 5 6]]\n"
          ]
        }
      ]
    },
    {
      "cell_type": "code",
      "source": [
        "slicing_mat=mat[0,:]\n",
        "print(slicing_mat)"
      ],
      "metadata": {
        "colab": {
          "base_uri": "https://localhost:8080/"
        },
        "id": "ARMD0aJynHWE",
        "outputId": "e25a3e47-b18a-40d3-deae-4c60a10a7907"
      },
      "execution_count": null,
      "outputs": [
        {
          "output_type": "stream",
          "name": "stdout",
          "text": [
            "[1 2 3]\n"
          ]
        }
      ]
    },
    {
      "cell_type": "code",
      "source": [
        "slicing_mat=mat[1,:]\n",
        "print(slicing_mat)"
      ],
      "metadata": {
        "colab": {
          "base_uri": "https://localhost:8080/"
        },
        "id": "Ey_lTzphnUUM",
        "outputId": "b3384763-f2c2-4857-eae4-3d19eef809a3"
      },
      "execution_count": null,
      "outputs": [
        {
          "output_type": "stream",
          "name": "stdout",
          "text": [
            "[4 5 6]\n"
          ]
        }
      ]
    },
    {
      "cell_type": "code",
      "source": [
        "slicing_mat=mat[:,1]\n",
        "print(slicing_mat)"
      ],
      "metadata": {
        "colab": {
          "base_uri": "https://localhost:8080/"
        },
        "id": "A-Tm6-ksnWXG",
        "outputId": "ad5306cb-f810-4bfc-e355-b5a8ac93264d"
      },
      "execution_count": null,
      "outputs": [
        {
          "output_type": "stream",
          "name": "stdout",
          "text": [
            "[2 5]\n"
          ]
        }
      ]
    },
    {
      "cell_type": "markdown",
      "source": [
        "**Numpy 정수 인덱싱**"
      ],
      "metadata": {
        "id": "KQ7J3Rgjncy1"
      }
    },
    {
      "cell_type": "code",
      "source": [
        "mat = np.array([[1, 2], [4, 5], [7, 8]])\n",
        "print(mat)"
      ],
      "metadata": {
        "colab": {
          "base_uri": "https://localhost:8080/"
        },
        "id": "NM7RKxjqnY-M",
        "outputId": "6c8c9236-7e1d-447e-81cc-18195f3663b8"
      },
      "execution_count": null,
      "outputs": [
        {
          "output_type": "stream",
          "name": "stdout",
          "text": [
            "[[1 2]\n",
            " [4 5]\n",
            " [7 8]]\n"
          ]
        }
      ]
    },
    {
      "cell_type": "code",
      "source": [
        "# mat[[2행, 1행],[0열, 1열]]\n",
        "# 각 행과 열의 쌍을 매칭하면 2행 0열, 1행 1열의 두 개의 원소.\n",
        "indexing_mat = mat[[2, 1],[0, 1]]\n",
        "print(indexing_mat)"
      ],
      "metadata": {
        "colab": {
          "base_uri": "https://localhost:8080/"
        },
        "id": "Cwv23tWTnpVT",
        "outputId": "25707176-5d56-4da2-b345-45ad8c1e2e85"
      },
      "execution_count": null,
      "outputs": [
        {
          "output_type": "stream",
          "name": "stdout",
          "text": [
            "[7 5]\n"
          ]
        }
      ]
    },
    {
      "cell_type": "markdown",
      "source": [
        "**Numpy 연산**"
      ],
      "metadata": {
        "id": "5foIW-QwodX-"
      }
    },
    {
      "cell_type": "code",
      "source": [
        "x = np.array([1,2,3])\n",
        "y = np.array([4,5,6])"
      ],
      "metadata": {
        "id": "I_bVEfZWoDYb"
      },
      "execution_count": null,
      "outputs": []
    },
    {
      "cell_type": "code",
      "source": [
        "# result = np.add(x, y)와 동일.\n",
        "result = x + y\n",
        "print(result)"
      ],
      "metadata": {
        "colab": {
          "base_uri": "https://localhost:8080/"
        },
        "id": "aLCMW6wVoh4l",
        "outputId": "e995b26e-a448-4803-c8cd-15d16f35871b"
      },
      "execution_count": null,
      "outputs": [
        {
          "output_type": "stream",
          "name": "stdout",
          "text": [
            "[5 7 9]\n"
          ]
        }
      ]
    },
    {
      "cell_type": "code",
      "source": [
        "# result = np.subtract(x, y)와 동일.\n",
        "result = x - y\n",
        "print(result)"
      ],
      "metadata": {
        "colab": {
          "base_uri": "https://localhost:8080/"
        },
        "id": "GA4h_hNVojR4",
        "outputId": "1434f67d-df73-470c-af8d-e557c5fa8753"
      },
      "execution_count": null,
      "outputs": [
        {
          "output_type": "stream",
          "name": "stdout",
          "text": [
            "[-3 -3 -3]\n"
          ]
        }
      ]
    },
    {
      "cell_type": "code",
      "source": [
        "# result = np.multiply(result, x)와 동일.\n",
        "result = result * x\n",
        "print(result)"
      ],
      "metadata": {
        "colab": {
          "base_uri": "https://localhost:8080/"
        },
        "id": "ch_SGlkMolYy",
        "outputId": "55e0c13d-7073-42fd-8a9e-72e164f44e32"
      },
      "execution_count": null,
      "outputs": [
        {
          "output_type": "stream",
          "name": "stdout",
          "text": [
            "[-3 -6 -9]\n"
          ]
        }
      ]
    },
    {
      "cell_type": "code",
      "source": [
        "# result = np.divide(result, x)와 동일.\n",
        "result = result / x\n",
        "print(result)"
      ],
      "metadata": {
        "colab": {
          "base_uri": "https://localhost:8080/"
        },
        "id": "uLfpw8ADon2u",
        "outputId": "5537f4cd-9dcd-487b-8fc8-436654f1f75a"
      },
      "execution_count": null,
      "outputs": [
        {
          "output_type": "stream",
          "name": "stdout",
          "text": [
            "[-3. -3. -3.]\n"
          ]
        }
      ]
    },
    {
      "cell_type": "code",
      "source": [
        "#행렬곱을 위해서는 dot()을 사용.\n",
        "mat1 = np.array([[1,2],[3,4]])\n",
        "mat2 = np.array([[5,6],[7,8]])\n",
        "mat3 = np.dot(mat1, mat2)\n",
        "print(mat3)"
      ],
      "metadata": {
        "colab": {
          "base_uri": "https://localhost:8080/"
        },
        "id": "HPUgLhRqoqX_",
        "outputId": "61ede973-bbcd-4bbc-dc85-b8ae192e9cb9"
      },
      "execution_count": null,
      "outputs": [
        {
          "output_type": "stream",
          "name": "stdout",
          "text": [
            "[[19 22]\n",
            " [43 50]]\n"
          ]
        }
      ]
    },
    {
      "cell_type": "markdown",
      "source": [
        "**3. 맷플롯립**"
      ],
      "metadata": {
        "id": "JpRXY3Ewo1fA"
      }
    },
    {
      "cell_type": "code",
      "source": [
        "import matplotlib as mpl\n",
        "import matplotlib.pyplot as plt"
      ],
      "metadata": {
        "id": "dOpqPOizovEc"
      },
      "execution_count": null,
      "outputs": []
    },
    {
      "cell_type": "markdown",
      "source": [
        "**라인 플롯 그리기**"
      ],
      "metadata": {
        "id": "qr12bt6cqrmv"
      }
    },
    {
      "cell_type": "code",
      "source": [
        "plt.title('test')\n",
        "plt.plot([1,2,3,4],[2,4,8,6])\n",
        "plt.plot([1.5,2.5,3.5,4.5],[3,5,8,10]) # 라인 새로 추가\n",
        "plt.xlabel('hours')\n",
        "plt.ylabel('score')\n",
        "plt.legend(['A student', 'B student']) # 범례 삽입\n",
        "plt.show()"
      ],
      "metadata": {
        "colab": {
          "base_uri": "https://localhost:8080/",
          "height": 472
        },
        "id": "TI4Mg8ago-iS",
        "outputId": "75fa858f-82aa-4966-ef51-46ee1a1cfa1d"
      },
      "execution_count": null,
      "outputs": [
        {
          "output_type": "display_data",
          "data": {
            "text/plain": [
              "<Figure size 640x480 with 1 Axes>"
            ],
            "image/png": "[encoded data removed]"
          },
          "metadata": {}
        }
      ]
    },
    {
      "cell_type": "code",
      "source": [],
      "metadata": {
        "id": "tYnwEwndq1ac"
      },
      "execution_count": null,
      "outputs": []
    }
  ]
}