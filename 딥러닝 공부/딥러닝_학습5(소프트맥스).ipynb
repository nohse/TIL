{
  "nbformat": 4,
  "nbformat_minor": 0,
  "metadata": {
    "colab": {
      "provenance": []
    },
    "kernelspec": {
      "name": "python3",
      "display_name": "Python 3"
    },
    "language_info": {
      "name": "python"
    }
  },
  "cells": [
    {
      "cell_type": "code",
      "execution_count": null,
      "metadata": {
        "id": "27NWK63OnmLM"
      },
      "outputs": [],
      "source": [
        "import torch\n",
        "import torch.nn as nn\n",
        "import torch.nn.functional as F\n",
        "import torch.optim as optim"
      ]
    },
    {
      "cell_type": "code",
      "source": [
        "torch.manual_seed(1)"
      ],
      "metadata": {
        "colab": {
          "base_uri": "https://localhost:8080/"
        },
        "id": "LM0mJRxPACQ-",
        "outputId": "902f24ca-3f81-4ef0-bf26-409a5bad8e3c"
      },
      "execution_count": null,
      "outputs": [
        {
          "output_type": "execute_result",
          "data": {
            "text/plain": [
              "<torch._C.Generator at 0x7e4e70299830>"
            ]
          },
          "metadata": {},
          "execution_count": 4
        }
      ]
    },
    {
      "cell_type": "markdown",
      "source": [],
      "metadata": {
        "id": "hW_0GWmfAB98"
      }
    },
    {
      "cell_type": "markdown",
      "source": [
        "**소프트맥스 회귀 구현**"
      ],
      "metadata": {
        "id": "IWJ2Zo_DntN9"
      }
    },
    {
      "cell_type": "code",
      "source": [
        "x_train = [[1, 2, 1, 1],\n",
        "           [2, 1, 3, 2],\n",
        "           [3, 1, 3, 4],\n",
        "           [4, 1, 5, 5],\n",
        "           [1, 7, 5, 5],\n",
        "           [1, 2, 5, 6],\n",
        "           [1, 6, 6, 6],\n",
        "           [1, 7, 7, 7]]\n",
        "y_train = [2, 2, 2, 1, 1, 1, 0, 0]\n",
        "x_train = torch.FloatTensor(x_train)\n",
        "y_train = torch.LongTensor(y_train)"
      ],
      "metadata": {
        "id": "pJjCPqNzny44"
      },
      "execution_count": null,
      "outputs": []
    },
    {
      "cell_type": "markdown",
      "source": [
        "**로우레벨**"
      ],
      "metadata": {
        "id": "Kl0y_wNdAVBC"
      }
    },
    {
      "cell_type": "code",
      "source": [
        "y_one_hot = torch.zeros(8, 3)\n",
        "y_one_hot.scatter_(1, y_train.unsqueeze(1), 1)\n",
        "print(y_one_hot.shape)"
      ],
      "metadata": {
        "colab": {
          "base_uri": "https://localhost:8080/"
        },
        "id": "mzTGJhREAUuf",
        "outputId": "056e36e3-a629-405d-d0b8-7e379c16174a"
      },
      "execution_count": null,
      "outputs": [
        {
          "output_type": "stream",
          "name": "stdout",
          "text": [
            "torch.Size([8, 3])\n"
          ]
        }
      ]
    },
    {
      "cell_type": "code",
      "source": [
        "# 모델 초기화\n",
        "W = torch.zeros((4, 3), requires_grad=True)\n",
        "b = torch.zeros((1, 3), requires_grad=True)\n",
        "# optimizer 설정\n",
        "optimizer = optim.SGD([W, b], lr=0.1)"
      ],
      "metadata": {
        "id": "iu_RdI0DAGVa"
      },
      "execution_count": null,
      "outputs": []
    },
    {
      "cell_type": "code",
      "source": [
        "nb_epochs = 1000\n",
        "for epoch in range(nb_epochs + 1):\n",
        "\n",
        "    # 가설\n",
        "    hypothesis = F.softmax(x_train.matmul(W) + b, dim=1)\n",
        "\n",
        "    # 비용 함수\n",
        "    cost = (y_one_hot * -torch.log(hypothesis)).sum(dim=1).mean()\n",
        "\n",
        "    # cost로 H(x) 개선\n",
        "    optimizer.zero_grad()\n",
        "    cost.backward()\n",
        "    optimizer.step()\n",
        "\n",
        "    # 100번마다 로그 출력\n",
        "    if epoch % 100 == 0:\n",
        "        print('Epoch {:4d}/{} Cost: {:.6f}'.format(\n",
        "            epoch, nb_epochs, cost.item()\n",
        "        ))\n"
      ],
      "metadata": {
        "colab": {
          "base_uri": "https://localhost:8080/"
        },
        "id": "8oYnAT90Aeua",
        "outputId": "2b21a918-0586-40b9-82a4-6b71fc7e0360"
      },
      "execution_count": null,
      "outputs": [
        {
          "output_type": "stream",
          "name": "stdout",
          "text": [
            "Epoch    0/1000 Cost: 1.098612\n",
            "Epoch  100/1000 Cost: 0.704199\n",
            "Epoch  200/1000 Cost: 0.622999\n",
            "Epoch  300/1000 Cost: 0.565717\n",
            "Epoch  400/1000 Cost: 0.515291\n",
            "Epoch  500/1000 Cost: 0.467661\n",
            "Epoch  600/1000 Cost: 0.421278\n",
            "Epoch  700/1000 Cost: 0.375402\n",
            "Epoch  800/1000 Cost: 0.329766\n",
            "Epoch  900/1000 Cost: 0.285072\n",
            "Epoch 1000/1000 Cost: 0.248155\n"
          ]
        }
      ]
    },
    {
      "cell_type": "markdown",
      "source": [
        "**하이레벨**"
      ],
      "metadata": {
        "id": "BiLaYL9aAjyT"
      }
    },
    {
      "cell_type": "code",
      "source": [
        "# 모델 초기화\n",
        "W = torch.zeros((4, 3), requires_grad=True)\n",
        "b = torch.zeros((1, 3), requires_grad=True)\n",
        "# optimizer 설정\n",
        "optimizer = optim.SGD([W, b], lr=0.1)\n",
        "\n",
        "nb_epochs = 1000\n",
        "for epoch in range(nb_epochs + 1):\n",
        "\n",
        "    # Cost 계산\n",
        "    z = x_train.matmul(W) + b\n",
        "    cost = F.cross_entropy(z, y_train)\n",
        "\n",
        "    # cost로 H(x) 개선\n",
        "    optimizer.zero_grad()\n",
        "    cost.backward()\n",
        "    optimizer.step()\n",
        "\n",
        "    # 100번마다 로그 출력\n",
        "    if epoch % 100 == 0:\n",
        "        print('Epoch {:4d}/{} Cost: {:.6f}'.format(\n",
        "            epoch, nb_epochs, cost.item()\n",
        "        ))\n"
      ],
      "metadata": {
        "colab": {
          "base_uri": "https://localhost:8080/"
        },
        "id": "pX5pTFnhAiWr",
        "outputId": "8f8f874b-45df-4372-b323-ec91e98b0c65"
      },
      "execution_count": null,
      "outputs": [
        {
          "output_type": "stream",
          "name": "stdout",
          "text": [
            "Epoch    0/1000 Cost: 1.098612\n",
            "Epoch  100/1000 Cost: 0.704199\n",
            "Epoch  200/1000 Cost: 0.623000\n",
            "Epoch  300/1000 Cost: 0.565717\n",
            "Epoch  400/1000 Cost: 0.515291\n",
            "Epoch  500/1000 Cost: 0.467662\n",
            "Epoch  600/1000 Cost: 0.421278\n",
            "Epoch  700/1000 Cost: 0.375402\n",
            "Epoch  800/1000 Cost: 0.329766\n",
            "Epoch  900/1000 Cost: 0.285073\n",
            "Epoch 1000/1000 Cost: 0.248155\n"
          ]
        }
      ]
    },
    {
      "cell_type": "markdown",
      "source": [
        "nn.Module로 구현하기"
      ],
      "metadata": {
        "id": "mvInh49uAtwO"
      }
    },
    {
      "cell_type": "code",
      "source": [
        "# 모델을 선언 및 초기화. 4개의 특성을 가지고 3개의 클래스로 분류. input_dim=4, output_dim=3.\n",
        "model = nn.Linear(4, 3)\n",
        "# optimizer 설정\n",
        "optimizer = optim.SGD(model.parameters(), lr=0.1)\n",
        "\n",
        "nb_epochs = 1000\n",
        "for epoch in range(nb_epochs + 1):\n",
        "\n",
        "    # H(x) 계산\n",
        "    prediction = model(x_train)\n",
        "\n",
        "    # cost 계산\n",
        "    cost = F.cross_entropy(prediction, y_train)\n",
        "\n",
        "    # cost로 H(x) 개선\n",
        "    optimizer.zero_grad()\n",
        "    cost.backward()\n",
        "    optimizer.step()\n",
        "\n",
        "    # 20번마다 로그 출력\n",
        "    if epoch % 100 == 0:\n",
        "        print('Epoch {:4d}/{} Cost: {:.6f}'.format(\n",
        "            epoch, nb_epochs, cost.item()\n",
        "        ))\n"
      ],
      "metadata": {
        "colab": {
          "base_uri": "https://localhost:8080/"
        },
        "id": "JaOLt0UvAphI",
        "outputId": "47dad92b-6c78-4fe8-f0db-550322a8da6c"
      },
      "execution_count": null,
      "outputs": [
        {
          "output_type": "stream",
          "name": "stdout",
          "text": [
            "Epoch    0/1000 Cost: 1.616785\n",
            "Epoch  100/1000 Cost: 0.658891\n",
            "Epoch  200/1000 Cost: 0.573443\n",
            "Epoch  300/1000 Cost: 0.518151\n",
            "Epoch  400/1000 Cost: 0.473265\n",
            "Epoch  500/1000 Cost: 0.433516\n",
            "Epoch  600/1000 Cost: 0.396563\n",
            "Epoch  700/1000 Cost: 0.360914\n",
            "Epoch  800/1000 Cost: 0.325392\n",
            "Epoch  900/1000 Cost: 0.289178\n",
            "Epoch 1000/1000 Cost: 0.254148\n"
          ]
        }
      ]
    },
    {
      "cell_type": "code",
      "source": [],
      "metadata": {
        "id": "rK1tjdSgA2Ju"
      },
      "execution_count": null,
      "outputs": []
    }
  ]
}