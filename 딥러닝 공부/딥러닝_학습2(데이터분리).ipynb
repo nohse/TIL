{
  "nbformat": 4,
  "nbformat_minor": 0,
  "metadata": {
    "colab": {
      "provenance": []
    },
    "kernelspec": {
      "name": "python3",
      "display_name": "Python 3"
    },
    "language_info": {
      "name": "python"
    }
  },
  "cells": [
    {
      "cell_type": "code",
      "execution_count": null,
      "metadata": {
        "id": "wjhf9ijSrUsM"
      },
      "outputs": [],
      "source": [
        "import pandas as pd\n",
        "import numpy as np\n",
        "from sklearn.model_selection import train_test_split"
      ]
    },
    {
      "cell_type": "markdown",
      "source": [
        "**2. X와 Y 분리하기**"
      ],
      "metadata": {
        "id": "LdodmCP1vzLk"
      }
    },
    {
      "cell_type": "markdown",
      "source": [
        "**zip 함수를 이용하여 분리하기**"
      ],
      "metadata": {
        "id": "BZS8GlNYxQJK"
      }
    },
    {
      "cell_type": "code",
      "source": [
        "X,y=zip(['a',1],['b',2],['c',3])\n",
        "print('X 데이터 :', X)\n",
        "print('Y 데이터 :', y)"
      ],
      "metadata": {
        "colab": {
          "base_uri": "https://localhost:8080/"
        },
        "id": "MwUEqKE4vNhR",
        "outputId": "c4f5f4ac-054a-4238-dcf7-cdb714dba502"
      },
      "execution_count": null,
      "outputs": [
        {
          "output_type": "stream",
          "name": "stdout",
          "text": [
            "X 데이터 : ('a', 'b', 'c')\n",
            "Y 데이터 : (1, 2, 3)\n"
          ]
        }
      ]
    },
    {
      "cell_type": "code",
      "source": [
        "# 리스트의 리스트 또는 행렬 또는 뒤에서 배울 개념인 2D 텐서.\n",
        "# * 연산자는 시퀀스(튜플, 리스트 등)를 언패킹하여 개별 요소들을 추출.\n",
        "sequences = [['a', 1], ['b', 2], ['c', 3]]\n",
        "X, y = zip(*sequences)\n",
        "print('X 데이터 :',X)\n",
        "print('y 데이터 :',y)"
      ],
      "metadata": {
        "colab": {
          "base_uri": "https://localhost:8080/"
        },
        "id": "_xE8cS3GwBKu",
        "outputId": "ba1bc757-bc1f-4f51-de73-285f54600201"
      },
      "execution_count": null,
      "outputs": [
        {
          "output_type": "stream",
          "name": "stdout",
          "text": [
            "X 데이터 : ('a', 'b', 'c')\n",
            "y 데이터 : (1, 2, 3)\n"
          ]
        }
      ]
    },
    {
      "cell_type": "markdown",
      "source": [
        "**데이터프레임을 이용하여 분리하기**"
      ],
      "metadata": {
        "id": "jXRCPhMRxVSo"
      }
    },
    {
      "cell_type": "code",
      "source": [
        "values = [['당신에게 드리는 마지막 혜택!', 1],\n",
        "['내일 뵐 수 있을지 확인 부탁드...', 0],\n",
        "['도연씨. 잘 지내시죠? 오랜만입...', 0],\n",
        "['(광고) AI로 주가를 예측할 수 있다!', 1]]\n",
        "columns=['메일 본문','스팸 메일 유무']\n",
        "df=pd.DataFrame(values,columns=columns)\n",
        "print(df)"
      ],
      "metadata": {
        "colab": {
          "base_uri": "https://localhost:8080/"
        },
        "id": "Bp36f8DAwkcI",
        "outputId": "ce5ae364-14db-4ffa-b44c-78a2016afe12"
      },
      "execution_count": null,
      "outputs": [
        {
          "output_type": "stream",
          "name": "stdout",
          "text": [
            "                    메일 본문  스팸 메일 유무\n",
            "0        당신에게 드리는 마지막 혜택!         1\n",
            "1    내일 뵐 수 있을지 확인 부탁드...         0\n",
            "2    도연씨. 잘 지내시죠? 오랜만입...         0\n",
            "3  (광고) AI로 주가를 예측할 수 있다!         1\n"
          ]
        }
      ]
    },
    {
      "cell_type": "code",
      "source": [
        "X = df['메일 본문']\n",
        "y = df['스팸 메일 유무']\n",
        "print('X 데이터 :',X.to_list())\n",
        "print('y 데이터 :',y.to_list())"
      ],
      "metadata": {
        "colab": {
          "base_uri": "https://localhost:8080/"
        },
        "id": "WnD7cgSywukV",
        "outputId": "bf0fa540-e858-4a72-bfd3-dcc54a35f183"
      },
      "execution_count": null,
      "outputs": [
        {
          "output_type": "stream",
          "name": "stdout",
          "text": [
            "X 데이터 : ['당신에게 드리는 마지막 혜택!', '내일 뵐 수 있을지 확인 부탁드...', '도연씨. 잘 지내시죠? 오랜만입...', '(광고) AI로 주가를 예측할 수 있다!']\n",
            "y 데이터 : [1, 0, 0, 1]\n"
          ]
        }
      ]
    },
    {
      "cell_type": "markdown",
      "source": [
        "**Numpy를 이용하여 분리하기**"
      ],
      "metadata": {
        "id": "G9BTpTEixYPG"
      }
    },
    {
      "cell_type": "code",
      "source": [
        "np_array=np.arange(0,16).reshape((4,4))\n",
        "print('전체 데이터 :')\n",
        "print(np_array)"
      ],
      "metadata": {
        "colab": {
          "base_uri": "https://localhost:8080/"
        },
        "id": "5izPhoAMw2FN",
        "outputId": "dd6dbb90-ea85-47d1-b120-26007f9379f8"
      },
      "execution_count": null,
      "outputs": [
        {
          "output_type": "stream",
          "name": "stdout",
          "text": [
            "전체 데이터 :\n",
            "[[ 0  1  2  3]\n",
            " [ 4  5  6  7]\n",
            " [ 8  9 10 11]\n",
            " [12 13 14 15]]\n"
          ]
        }
      ]
    },
    {
      "cell_type": "code",
      "source": [
        "X=np_array[:,:3]\n",
        "y=np_array[:,3]\n",
        "print('X 데이터 :')\n",
        "print(X)\n",
        "print('y 데이터 :',y)"
      ],
      "metadata": {
        "colab": {
          "base_uri": "https://localhost:8080/"
        },
        "id": "j-tivMD0xkMB",
        "outputId": "bb69e2c2-352c-4f20-919a-12730ea2df87"
      },
      "execution_count": null,
      "outputs": [
        {
          "output_type": "stream",
          "name": "stdout",
          "text": [
            "X 데이터 :\n",
            "[[ 0  1  2]\n",
            " [ 4  5  6]\n",
            " [ 8  9 10]\n",
            " [12 13 14]]\n",
            "y 데이터 : [ 3  7 11 15]\n"
          ]
        }
      ]
    },
    {
      "cell_type": "markdown",
      "source": [
        "**3. 테스트 데이터 분리하기**"
      ],
      "metadata": {
        "id": "7uFXhiVMx7Uc"
      }
    },
    {
      "cell_type": "markdown",
      "source": [
        "**사이킷 런을 이용하여 분리하기**"
      ],
      "metadata": {
        "id": "R6_YVoQ7x_hW"
      }
    },
    {
      "cell_type": "code",
      "source": [
        "X_train,X_test, y_train, y_test=train_test_split(X,y,test_size=0.2,random_state=1234)"
      ],
      "metadata": {
        "id": "JvGUPaSXyBdT"
      },
      "execution_count": null,
      "outputs": []
    },
    {
      "cell_type": "code",
      "source": [
        "X, y = np.arange(10).reshape((5, 2)), range(5)\n",
        "\n",
        "print('X 전체 데이터 :')\n",
        "print(X)\n",
        "print('y 전체 데이터 :')\n",
        "print(list(y))"
      ],
      "metadata": {
        "colab": {
          "base_uri": "https://localhost:8080/"
        },
        "id": "UJqriLSJyQKg",
        "outputId": "bc14a106-09e7-4d85-fb0e-b36961a38337"
      },
      "execution_count": null,
      "outputs": [
        {
          "output_type": "stream",
          "name": "stdout",
          "text": [
            "X 전체 데이터 :\n",
            "[[0 1]\n",
            " [2 3]\n",
            " [4 5]\n",
            " [6 7]\n",
            " [8 9]]\n",
            "y 전체 데이터 :\n",
            "[0, 1, 2, 3, 4]\n"
          ]
        }
      ]
    },
    {
      "cell_type": "code",
      "source": [
        "# 7:3의 비율로 훈련 데이터와 테스트 데이터 분리\n",
        "X_train, X_test, y_train, y_test = train_test_split(X, y, test_size=0.3, random_state=1234)\n",
        "print('X 훈련 데이터 :')\n",
        "print(X_train)\n",
        "print('X 테스트 데이터 :')\n",
        "print(X_test)\n",
        "print('y 훈련 데이터 :')\n",
        "print(y_train)\n",
        "print('y 테스트 데이터 :')\n",
        "print(y_test)"
      ],
      "metadata": {
        "colab": {
          "base_uri": "https://localhost:8080/"
        },
        "id": "LYEnlf-1ydmD",
        "outputId": "a0c97f37-aed0-47c3-9332-3954a381c0cd"
      },
      "execution_count": null,
      "outputs": [
        {
          "output_type": "stream",
          "name": "stdout",
          "text": [
            "X 훈련 데이터 :\n",
            "[[2 3]\n",
            " [4 5]\n",
            " [6 7]]\n",
            "X 테스트 데이터 :\n",
            "[[8 9]\n",
            " [0 1]]\n",
            "y 훈련 데이터 :\n",
            "[1, 2, 3]\n",
            "y 테스트 데이터 :\n",
            "[4, 0]\n"
          ]
        }
      ]
    },
    {
      "cell_type": "markdown",
      "source": [
        "**수동으로 분리하기**"
      ],
      "metadata": {
        "id": "bpgGSLGty1-S"
      }
    },
    {
      "cell_type": "code",
      "source": [
        "X,y=np.arange(0,24).reshape((12,2)),range(12)\n",
        "print('X 전체 데이터 :')\n",
        "print(X)\n",
        "print('y 전체 데이터 :')\n",
        "print(list(y))"
      ],
      "metadata": {
        "colab": {
          "base_uri": "https://localhost:8080/"
        },
        "id": "Q55HJQlYyu_G",
        "outputId": "414cf3a1-78df-45c6-cbef-88478482a8a2"
      },
      "execution_count": null,
      "outputs": [
        {
          "output_type": "stream",
          "name": "stdout",
          "text": [
            "X 전체 데이터 :\n",
            "[[ 0  1]\n",
            " [ 2  3]\n",
            " [ 4  5]\n",
            " [ 6  7]\n",
            " [ 8  9]\n",
            " [10 11]\n",
            " [12 13]\n",
            " [14 15]\n",
            " [16 17]\n",
            " [18 19]\n",
            " [20 21]\n",
            " [22 23]]\n",
            "y 전체 데이터 :\n",
            "[0, 1, 2, 3, 4, 5, 6, 7, 8, 9, 10, 11]\n"
          ]
        }
      ]
    },
    {
      "cell_type": "code",
      "source": [
        "num_of_train = int(len(X) * 0.8) # 데이터의 전체 길이의 80%에 해당하는 길이값을 구한다.\n",
        "num_of_test = int(len(X) - num_of_train) # 전체 길이에서 80%에 해당하는 길이를 뺀다.\n",
        "print('훈련 데이터의 크기 :',num_of_train)\n",
        "print('테스트 데이터의 크기 :',num_of_test)\n",
        "X_test = X[num_of_train:] # 전체 데이터 중에서 20%만큼 뒤의 데이터 저장\n",
        "y_test = y[num_of_train:] # 전체 데이터 중에서 20%만큼 뒤의 데이터 저장\n",
        "X_train = X[:num_of_train] # 전체 데이터 중에서 80%만큼 앞의 데이터 저장\n",
        "y_train = y[:num_of_train] # 전체 데이터 중에서 80%만큼 앞의 데이터 저장\n",
        "print('X 테스트 데이터 :')\n",
        "print(X_test)\n",
        "print('y 테스트 데이터 :')\n",
        "print(list(y_test))"
      ],
      "metadata": {
        "colab": {
          "base_uri": "https://localhost:8080/"
        },
        "id": "JqBAsmOjzAZK",
        "outputId": "80eb05df-620e-4a32-d46a-daf973982a24"
      },
      "execution_count": null,
      "outputs": [
        {
          "output_type": "stream",
          "name": "stdout",
          "text": [
            "훈련 데이터의 크기 : 9\n",
            "테스트 데이터의 크기 : 3\n",
            "X 테스트 데이터 :\n",
            "[[18 19]\n",
            " [20 21]\n",
            " [22 23]]\n",
            "y 테스트 데이터 :\n",
            "[9, 10, 11]\n"
          ]
        }
      ]
    },
    {
      "cell_type": "code",
      "source": [],
      "metadata": {
        "id": "osGHrrCjzQ6t"
      },
      "execution_count": null,
      "outputs": []
    }
  ]
}